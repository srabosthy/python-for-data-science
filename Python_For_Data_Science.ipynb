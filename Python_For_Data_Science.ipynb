{
  "nbformat": 4,
  "nbformat_minor": 0,
  "metadata": {
    "colab": {
      "name": "Python For Data Science.ipynb",
      "provenance": [],
      "collapsed_sections": [],
      "authorship_tag": "ABX9TyMGsIfU/Y1PdJDxTZkkAYME",
      "include_colab_link": true
    },
    "kernelspec": {
      "name": "python3",
      "display_name": "Python 3"
    },
    "language_info": {
      "name": "python"
    }
  },
  "cells": [
    {
      "cell_type": "markdown",
      "metadata": {
        "id": "view-in-github",
        "colab_type": "text"
      },
      "source": [
        "<a href=\"https://colab.research.google.com/github/srabosthy/python-for-data-science/blob/main/Python_For_Data_Science.ipynb\" target=\"_parent\"><img src=\"https://colab.research.google.com/assets/colab-badge.svg\" alt=\"Open In Colab\"/></a>"
      ]
    },
    {
      "cell_type": "markdown",
      "source": [
        "## 1) Variables and Operators in Python"
      ],
      "metadata": {
        "id": "VHCe4eED3AoH"
      }
    },
    {
      "cell_type": "code",
      "execution_count": 17,
      "metadata": {
        "colab": {
          "base_uri": "https://localhost:8080/"
        },
        "id": "TQ0chHQj22ir",
        "outputId": "54ad6d13-8403-43bc-dc98-98cfdb252057"
      },
      "outputs": [
        {
          "output_type": "stream",
          "name": "stdout",
          "text": [
            "Hello world\n"
          ]
        }
      ],
      "source": [
        "print('Hello world')"
      ]
    },
    {
      "cell_type": "code",
      "source": [
        "x = 7\n",
        "%whos\n",
        "print(type(x))\n",
        "\n",
        "x = 5.3\n",
        "print(type(x))\n",
        "\n",
        "abcd = 123.34"
      ],
      "metadata": {
        "colab": {
          "base_uri": "https://localhost:8080/"
        },
        "id": "nSW_GRSP-QXS",
        "outputId": "519f0a3a-5dc8-4f0d-a024-d30211e47e81"
      },
      "execution_count": 18,
      "outputs": [
        {
          "output_type": "stream",
          "name": "stdout",
          "text": [
            "Variable   Type    Data/Info\n",
            "----------------------------\n",
            "a          int     2\n",
            "b          int     5\n",
            "c          int     7\n",
            "d          int     9\n",
            "e          int     10\n",
            "x          int     7\n",
            "<class 'int'>\n",
            "<class 'float'>\n"
          ]
        }
      ]
    },
    {
      "cell_type": "code",
      "source": [
        "a,b,c,d,e = 2,5,7,9,10\n",
        "%whos"
      ],
      "metadata": {
        "colab": {
          "base_uri": "https://localhost:8080/"
        },
        "id": "dRadqXBwJzcc",
        "outputId": "d908c18b-0420-4941-f8ac-826a4a54fc63"
      },
      "execution_count": 19,
      "outputs": [
        {
          "output_type": "stream",
          "name": "stdout",
          "text": [
            "Variable   Type     Data/Info\n",
            "-----------------------------\n",
            "a          int      2\n",
            "abcd       float    123.34\n",
            "b          int      5\n",
            "c          int      7\n",
            "d          int      9\n",
            "e          int      10\n",
            "x          float    5.3\n"
          ]
        }
      ]
    },
    {
      "cell_type": "code",
      "source": [
        "del abcd\n",
        "%whos\n",
        "# print(abcd)"
      ],
      "metadata": {
        "colab": {
          "base_uri": "https://localhost:8080/"
        },
        "id": "SgPB6w8tKi8Y",
        "outputId": "960d6aec-c14e-4b8c-e5e3-9ba6934c4c30"
      },
      "execution_count": 20,
      "outputs": [
        {
          "output_type": "stream",
          "name": "stdout",
          "text": [
            "Variable   Type     Data/Info\n",
            "-----------------------------\n",
            "a          int      2\n",
            "b          int      5\n",
            "c          int      7\n",
            "d          int      9\n",
            "e          int      10\n",
            "x          float    5.3\n"
          ]
        }
      ]
    },
    {
      "cell_type": "code",
      "source": [
        "xyz = 4 + 5j\n",
        "print(type(xyz))"
      ],
      "metadata": {
        "colab": {
          "base_uri": "https://localhost:8080/"
        },
        "id": "1A5Vc1xkMGN6",
        "outputId": "d5936b9e-fef0-46ae-83c3-39b875866280"
      },
      "execution_count": 21,
      "outputs": [
        {
          "output_type": "stream",
          "name": "stdout",
          "text": [
            "<class 'complex'>\n"
          ]
        }
      ]
    },
    {
      "cell_type": "code",
      "source": [
        "poo = \"This is my poo\"\n",
        "print(type(poo))"
      ],
      "metadata": {
        "colab": {
          "base_uri": "https://localhost:8080/"
        },
        "id": "097NWeecMQmy",
        "outputId": "a046f08f-a51b-43e9-cbfb-8eabd8794bb6"
      },
      "execution_count": 22,
      "outputs": [
        {
          "output_type": "stream",
          "name": "stdout",
          "text": [
            "<class 'str'>\n"
          ]
        }
      ]
    }
  ]
}