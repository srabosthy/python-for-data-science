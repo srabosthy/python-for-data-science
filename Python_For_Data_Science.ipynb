{
  "nbformat": 4,
  "nbformat_minor": 0,
  "metadata": {
    "colab": {
      "name": "Python For Data Science.ipynb",
      "provenance": [],
      "collapsed_sections": [],
      "authorship_tag": "ABX9TyO5VwI3QluT5KOBoOwJPhN1",
      "include_colab_link": true
    },
    "kernelspec": {
      "name": "python3",
      "display_name": "Python 3"
    },
    "language_info": {
      "name": "python"
    }
  },
  "cells": [
    {
      "cell_type": "markdown",
      "metadata": {
        "id": "view-in-github",
        "colab_type": "text"
      },
      "source": [
        "<a href=\"https://colab.research.google.com/github/srabosthy/python-for-data-science/blob/main/Python_For_Data_Science.ipynb\" target=\"_parent\"><img src=\"https://colab.research.google.com/assets/colab-badge.svg\" alt=\"Open In Colab\"/></a>"
      ]
    },
    {
      "cell_type": "markdown",
      "source": [
        "## 1) Variables"
      ],
      "metadata": {
        "id": "VHCe4eED3AoH"
      }
    },
    {
      "cell_type": "code",
      "execution_count": 23,
      "metadata": {
        "colab": {
          "base_uri": "https://localhost:8080/"
        },
        "id": "TQ0chHQj22ir",
        "outputId": "1deda637-0a2c-4149-f152-4aca016f1d02"
      },
      "outputs": [
        {
          "output_type": "stream",
          "name": "stdout",
          "text": [
            "Hello world\n"
          ]
        }
      ],
      "source": [
        "print('Hello world')"
      ]
    },
    {
      "cell_type": "code",
      "source": [
        "x = 7\n",
        "%whos\n",
        "print(type(x))\n",
        "\n",
        "x = 5.3\n",
        "print(type(x))\n",
        "\n",
        "abcd = 123.34"
      ],
      "metadata": {
        "colab": {
          "base_uri": "https://localhost:8080/"
        },
        "id": "nSW_GRSP-QXS",
        "outputId": "bfcd24fd-e5c5-4199-e764-b5d2fb36be0d"
      },
      "execution_count": 24,
      "outputs": [
        {
          "output_type": "stream",
          "name": "stdout",
          "text": [
            "Variable   Type       Data/Info\n",
            "-------------------------------\n",
            "a          int        2\n",
            "b          int        5\n",
            "c          int        7\n",
            "d          int        9\n",
            "div_ad     float      0.2222222222222222\n",
            "div_ax     float      7.3\n",
            "div_da     float      4.5\n",
            "e          int        10\n",
            "fd_da      int        4\n",
            "mul_ac     int        14\n",
            "poo        str        This is my poo\n",
            "s          str        HelloWorld\n",
            "s1         str        Hello\n",
            "s2         str        World\n",
            "sum_ab     int        7\n",
            "sum_ax     float      7.3\n",
            "tdf_ac     int        128\n",
            "x          int        7\n",
            "xyz        complex    (4+5j)\n",
            "<class 'int'>\n",
            "<class 'float'>\n"
          ]
        }
      ]
    },
    {
      "cell_type": "code",
      "source": [
        "a,b,c,d,e = 2,5,7,9,10\n",
        "%whos"
      ],
      "metadata": {
        "colab": {
          "base_uri": "https://localhost:8080/"
        },
        "id": "dRadqXBwJzcc",
        "outputId": "fec1a8d2-3de0-4c3c-e8c9-dfd60d077ab6"
      },
      "execution_count": 25,
      "outputs": [
        {
          "output_type": "stream",
          "name": "stdout",
          "text": [
            "Variable   Type       Data/Info\n",
            "-------------------------------\n",
            "a          int        2\n",
            "abcd       float      123.34\n",
            "b          int        5\n",
            "c          int        7\n",
            "d          int        9\n",
            "div_ad     float      0.2222222222222222\n",
            "div_ax     float      7.3\n",
            "div_da     float      4.5\n",
            "e          int        10\n",
            "fd_da      int        4\n",
            "mul_ac     int        14\n",
            "poo        str        This is my poo\n",
            "s          str        HelloWorld\n",
            "s1         str        Hello\n",
            "s2         str        World\n",
            "sum_ab     int        7\n",
            "sum_ax     float      7.3\n",
            "tdf_ac     int        128\n",
            "x          float      5.3\n",
            "xyz        complex    (4+5j)\n"
          ]
        }
      ]
    },
    {
      "cell_type": "code",
      "source": [
        "del abcd\n",
        "%whos\n",
        "# print(abcd)"
      ],
      "metadata": {
        "colab": {
          "base_uri": "https://localhost:8080/"
        },
        "id": "SgPB6w8tKi8Y",
        "outputId": "1efaa515-e965-4196-c190-73d47e4a98e3"
      },
      "execution_count": 26,
      "outputs": [
        {
          "output_type": "stream",
          "name": "stdout",
          "text": [
            "Variable   Type       Data/Info\n",
            "-------------------------------\n",
            "a          int        2\n",
            "b          int        5\n",
            "c          int        7\n",
            "d          int        9\n",
            "div_ad     float      0.2222222222222222\n",
            "div_ax     float      7.3\n",
            "div_da     float      4.5\n",
            "e          int        10\n",
            "fd_da      int        4\n",
            "mul_ac     int        14\n",
            "poo        str        This is my poo\n",
            "s          str        HelloWorld\n",
            "s1         str        Hello\n",
            "s2         str        World\n",
            "sum_ab     int        7\n",
            "sum_ax     float      7.3\n",
            "tdf_ac     int        128\n",
            "x          float      5.3\n",
            "xyz        complex    (4+5j)\n"
          ]
        }
      ]
    },
    {
      "cell_type": "code",
      "source": [
        "xyz = 4 + 5j\n",
        "print(type(xyz))"
      ],
      "metadata": {
        "colab": {
          "base_uri": "https://localhost:8080/"
        },
        "id": "1A5Vc1xkMGN6",
        "outputId": "2f11b5a3-d9fc-41ac-a276-e5a3d50832e5"
      },
      "execution_count": 27,
      "outputs": [
        {
          "output_type": "stream",
          "name": "stdout",
          "text": [
            "<class 'complex'>\n"
          ]
        }
      ]
    },
    {
      "cell_type": "code",
      "source": [
        "poo = \"This is my poo\"\n",
        "print(type(poo))"
      ],
      "metadata": {
        "colab": {
          "base_uri": "https://localhost:8080/"
        },
        "id": "097NWeecMQmy",
        "outputId": "72e5e61b-224d-4c68-f8f0-dfa4765dcf59"
      },
      "execution_count": 28,
      "outputs": [
        {
          "output_type": "stream",
          "name": "stdout",
          "text": [
            "<class 'str'>\n"
          ]
        }
      ]
    },
    {
      "cell_type": "markdown",
      "source": [
        "## Operators"
      ],
      "metadata": {
        "id": "JXHkzzs2-ytx"
      }
    },
    {
      "cell_type": "code",
      "source": [
        "%whos"
      ],
      "metadata": {
        "colab": {
          "base_uri": "https://localhost:8080/"
        },
        "id": "xFDSZV_H-2Bm",
        "outputId": "9a44772d-e237-40c4-81da-3d3bac7b4c1a"
      },
      "execution_count": 29,
      "outputs": [
        {
          "output_type": "stream",
          "name": "stdout",
          "text": [
            "Variable   Type       Data/Info\n",
            "-------------------------------\n",
            "a          int        2\n",
            "b          int        5\n",
            "c          int        7\n",
            "d          int        9\n",
            "div_ad     float      0.2222222222222222\n",
            "div_ax     float      7.3\n",
            "div_da     float      4.5\n",
            "e          int        10\n",
            "fd_da      int        4\n",
            "mul_ac     int        14\n",
            "poo        str        This is my poo\n",
            "s          str        HelloWorld\n",
            "s1         str        Hello\n",
            "s2         str        World\n",
            "sum_ab     int        7\n",
            "sum_ax     float      7.3\n",
            "tdf_ac     int        128\n",
            "x          float      5.3\n",
            "xyz        complex    (4+5j)\n"
          ]
        }
      ]
    },
    {
      "cell_type": "code",
      "source": [
        "sum_ab = a + b\n",
        "print(sum_ab)\n",
        "type(sum_ab)"
      ],
      "metadata": {
        "colab": {
          "base_uri": "https://localhost:8080/"
        },
        "id": "UpiE-kOCAFs1",
        "outputId": "1a745a2c-229a-4c2f-cbf6-4140e7ab5803"
      },
      "execution_count": 30,
      "outputs": [
        {
          "output_type": "stream",
          "name": "stdout",
          "text": [
            "7\n"
          ]
        },
        {
          "output_type": "execute_result",
          "data": {
            "text/plain": [
              "int"
            ]
          },
          "metadata": {},
          "execution_count": 30
        }
      ]
    },
    {
      "cell_type": "code",
      "source": [
        "sum_ax = a+x\n",
        "print(sum_ax)"
      ],
      "metadata": {
        "colab": {
          "base_uri": "https://localhost:8080/"
        },
        "id": "EbTp962DBO8i",
        "outputId": "bdcb2e9d-1659-4317-f046-55da43d617b6"
      },
      "execution_count": 31,
      "outputs": [
        {
          "output_type": "stream",
          "name": "stdout",
          "text": [
            "7.3\n"
          ]
        }
      ]
    },
    {
      "cell_type": "code",
      "source": [
        "div_da = d/a\n",
        "print(div_da)\n",
        "\n",
        "fd_da = d//a\n",
        "print(fd_da)"
      ],
      "metadata": {
        "colab": {
          "base_uri": "https://localhost:8080/"
        },
        "id": "GP7jJNvHBhoC",
        "outputId": "61c0a919-ed53-40d6-c522-776f1546fd93"
      },
      "execution_count": 32,
      "outputs": [
        {
          "output_type": "stream",
          "name": "stdout",
          "text": [
            "4.5\n",
            "4\n"
          ]
        }
      ]
    },
    {
      "cell_type": "code",
      "source": [
        "mul_ac = a * c\n",
        "print(mul_ac)\n",
        "\n",
        "tdf_ac = a ** c\n",
        "print(tdf_ac)"
      ],
      "metadata": {
        "colab": {
          "base_uri": "https://localhost:8080/"
        },
        "id": "I5JotJmpFBgJ",
        "outputId": "0dbc3219-9cc1-445c-8827-1dbf44b9a4d6"
      },
      "execution_count": 33,
      "outputs": [
        {
          "output_type": "stream",
          "name": "stdout",
          "text": [
            "14\n",
            "128\n"
          ]
        }
      ]
    },
    {
      "cell_type": "code",
      "source": [
        "s1 = \"Hello\"\n",
        "s2 = \"World\"\n",
        "s = s1 + s2\n",
        "print(s)"
      ],
      "metadata": {
        "colab": {
          "base_uri": "https://localhost:8080/"
        },
        "id": "yW2SKNGiB0-y",
        "outputId": "89375a35-32f9-4e29-d7f9-5fc3a1c1b1c4"
      },
      "execution_count": 34,
      "outputs": [
        {
          "output_type": "stream",
          "name": "stdout",
          "text": [
            "HelloWorld\n"
          ]
        }
      ]
    },
    {
      "cell_type": "code",
      "source": [
        "10/3"
      ],
      "metadata": {
        "colab": {
          "base_uri": "https://localhost:8080/"
        },
        "id": "6kaoY8xtEFK9",
        "outputId": "95a20241-3e12-487b-8258-3ee74d964b30"
      },
      "execution_count": 35,
      "outputs": [
        {
          "output_type": "execute_result",
          "data": {
            "text/plain": [
              "3.3333333333333335"
            ]
          },
          "metadata": {},
          "execution_count": 35
        }
      ]
    },
    {
      "cell_type": "code",
      "source": [
        "_"
      ],
      "metadata": {
        "colab": {
          "base_uri": "https://localhost:8080/"
        },
        "id": "dLzmhHQWEHgv",
        "outputId": "434e7d69-987d-4557-888c-88b24137976a"
      },
      "execution_count": 36,
      "outputs": [
        {
          "output_type": "execute_result",
          "data": {
            "text/plain": [
              "3.3333333333333335"
            ]
          },
          "metadata": {},
          "execution_count": 36
        }
      ]
    }
  ]
}