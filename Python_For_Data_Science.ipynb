{
  "nbformat": 4,
  "nbformat_minor": 0,
  "metadata": {
    "colab": {
      "name": "Python For Data Science.ipynb",
      "provenance": [],
      "collapsed_sections": [],
      "authorship_tag": "ABX9TyNZJYOukLFBOdHmTh4+88Nc",
      "include_colab_link": true
    },
    "kernelspec": {
      "name": "python3",
      "display_name": "Python 3"
    },
    "language_info": {
      "name": "python"
    }
  },
  "cells": [
    {
      "cell_type": "markdown",
      "metadata": {
        "id": "view-in-github",
        "colab_type": "text"
      },
      "source": [
        "<a href=\"https://colab.research.google.com/github/srabosthy/python-for-data-science/blob/main/Python_For_Data_Science.ipynb\" target=\"_parent\"><img src=\"https://colab.research.google.com/assets/colab-badge.svg\" alt=\"Open In Colab\"/></a>"
      ]
    },
    {
      "cell_type": "markdown",
      "source": [
        "## 1) Variables"
      ],
      "metadata": {
        "id": "VHCe4eED3AoH"
      }
    },
    {
      "cell_type": "code",
      "execution_count": null,
      "metadata": {
        "colab": {
          "base_uri": "https://localhost:8080/"
        },
        "id": "TQ0chHQj22ir",
        "outputId": "32e91058-7541-4bb8-9e52-a054026d6025"
      },
      "outputs": [
        {
          "output_type": "stream",
          "name": "stdout",
          "text": [
            "Hello world\n"
          ]
        }
      ],
      "source": [
        "print('Hello world')"
      ]
    },
    {
      "cell_type": "code",
      "source": [
        "x = 7\n",
        "%whos\n",
        "print(type(x))\n",
        "\n",
        "x = 5.3\n",
        "print(type(x))\n",
        "\n",
        "abcd = 123.34"
      ],
      "metadata": {
        "colab": {
          "base_uri": "https://localhost:8080/"
        },
        "id": "nSW_GRSP-QXS",
        "outputId": "728d33e2-503b-4791-d1da-c3e6ab875513"
      },
      "execution_count": null,
      "outputs": [
        {
          "output_type": "stream",
          "name": "stdout",
          "text": [
            "Variable   Type    Data/Info\n",
            "----------------------------\n",
            "x          int     7\n",
            "<class 'int'>\n",
            "<class 'float'>\n"
          ]
        }
      ]
    },
    {
      "cell_type": "code",
      "source": [
        "a,b,c,d,e = 2,5,7,9,10\n",
        "%whos"
      ],
      "metadata": {
        "colab": {
          "base_uri": "https://localhost:8080/"
        },
        "id": "dRadqXBwJzcc",
        "outputId": "cdd1336a-c87d-4325-8047-145a95e0794b"
      },
      "execution_count": null,
      "outputs": [
        {
          "output_type": "stream",
          "name": "stdout",
          "text": [
            "Variable   Type     Data/Info\n",
            "-----------------------------\n",
            "a          int      2\n",
            "abcd       float    123.34\n",
            "b          int      5\n",
            "c          int      7\n",
            "d          int      9\n",
            "e          int      10\n",
            "x          float    5.3\n"
          ]
        }
      ]
    },
    {
      "cell_type": "code",
      "source": [
        "del abcd\n",
        "%whos\n",
        "# print(abcd)"
      ],
      "metadata": {
        "colab": {
          "base_uri": "https://localhost:8080/"
        },
        "id": "SgPB6w8tKi8Y",
        "outputId": "b02396cb-57c4-4550-85fa-a1b70c25f2b7"
      },
      "execution_count": null,
      "outputs": [
        {
          "output_type": "stream",
          "name": "stdout",
          "text": [
            "Variable   Type     Data/Info\n",
            "-----------------------------\n",
            "a          int      2\n",
            "b          int      5\n",
            "c          int      7\n",
            "d          int      9\n",
            "e          int      10\n",
            "x          float    5.3\n"
          ]
        }
      ]
    },
    {
      "cell_type": "code",
      "source": [
        "xyz = 4 + 5j\n",
        "print(type(xyz))"
      ],
      "metadata": {
        "colab": {
          "base_uri": "https://localhost:8080/"
        },
        "id": "1A5Vc1xkMGN6",
        "outputId": "020b3802-9578-4e49-a7c7-52ec8582549f"
      },
      "execution_count": null,
      "outputs": [
        {
          "output_type": "stream",
          "name": "stdout",
          "text": [
            "<class 'complex'>\n"
          ]
        }
      ]
    },
    {
      "cell_type": "code",
      "source": [
        "poo = \"This is my poo\"\n",
        "print(type(poo))"
      ],
      "metadata": {
        "colab": {
          "base_uri": "https://localhost:8080/"
        },
        "id": "097NWeecMQmy",
        "outputId": "cc276540-01fe-40f7-b21c-d42aef1f4d70"
      },
      "execution_count": null,
      "outputs": [
        {
          "output_type": "stream",
          "name": "stdout",
          "text": [
            "<class 'str'>\n"
          ]
        }
      ]
    },
    {
      "cell_type": "markdown",
      "source": [
        "## Operators"
      ],
      "metadata": {
        "id": "JXHkzzs2-ytx"
      }
    },
    {
      "cell_type": "code",
      "source": [
        "%whos"
      ],
      "metadata": {
        "colab": {
          "base_uri": "https://localhost:8080/"
        },
        "id": "xFDSZV_H-2Bm",
        "outputId": "c980d397-e5df-418b-e7ea-baa7a9557c71"
      },
      "execution_count": null,
      "outputs": [
        {
          "output_type": "stream",
          "name": "stdout",
          "text": [
            "Variable   Type       Data/Info\n",
            "-------------------------------\n",
            "a          int        2\n",
            "b          int        5\n",
            "c          int        7\n",
            "d          int        9\n",
            "e          int        10\n",
            "poo        str        This is my poo\n",
            "x          float      5.3\n",
            "xyz        complex    (4+5j)\n"
          ]
        }
      ]
    },
    {
      "cell_type": "code",
      "source": [
        "sum_ab = a + b\n",
        "print(sum_ab)\n",
        "type(sum_ab)"
      ],
      "metadata": {
        "colab": {
          "base_uri": "https://localhost:8080/"
        },
        "id": "UpiE-kOCAFs1",
        "outputId": "5169de40-2398-4d74-c5c5-1d4b6793606b"
      },
      "execution_count": null,
      "outputs": [
        {
          "output_type": "stream",
          "name": "stdout",
          "text": [
            "7\n"
          ]
        },
        {
          "output_type": "execute_result",
          "data": {
            "text/plain": [
              "int"
            ]
          },
          "metadata": {},
          "execution_count": 8
        }
      ]
    },
    {
      "cell_type": "code",
      "source": [
        "sum_ax = a+x\n",
        "print(sum_ax)"
      ],
      "metadata": {
        "colab": {
          "base_uri": "https://localhost:8080/"
        },
        "id": "EbTp962DBO8i",
        "outputId": "ecb7227b-4ca3-4c02-fa9b-c48a62e5c1e9"
      },
      "execution_count": null,
      "outputs": [
        {
          "output_type": "stream",
          "name": "stdout",
          "text": [
            "7.3\n"
          ]
        }
      ]
    },
    {
      "cell_type": "code",
      "source": [
        "div_da = d/a\n",
        "print(div_da)\n",
        "\n",
        "fd_da = d//a\n",
        "print(fd_da)"
      ],
      "metadata": {
        "colab": {
          "base_uri": "https://localhost:8080/"
        },
        "id": "GP7jJNvHBhoC",
        "outputId": "7e25198d-fa7e-4bd5-cd7c-34858851ce02"
      },
      "execution_count": null,
      "outputs": [
        {
          "output_type": "stream",
          "name": "stdout",
          "text": [
            "4.5\n",
            "4\n"
          ]
        }
      ]
    },
    {
      "cell_type": "code",
      "source": [
        "mul_ac = a * c\n",
        "print(mul_ac)\n",
        "\n",
        "tdf_ac = a ** c\n",
        "print(tdf_ac)"
      ],
      "metadata": {
        "colab": {
          "base_uri": "https://localhost:8080/"
        },
        "id": "I5JotJmpFBgJ",
        "outputId": "a809a6f4-a4b5-4d8f-baec-f3b653117d86"
      },
      "execution_count": null,
      "outputs": [
        {
          "output_type": "stream",
          "name": "stdout",
          "text": [
            "14\n",
            "128\n"
          ]
        }
      ]
    },
    {
      "cell_type": "code",
      "source": [
        "s1 = \"Hello\"\n",
        "s2 = \"World\"\n",
        "s = s1 + s2\n",
        "print(s)"
      ],
      "metadata": {
        "colab": {
          "base_uri": "https://localhost:8080/"
        },
        "id": "yW2SKNGiB0-y",
        "outputId": "4d9b3ad7-38d4-46a2-bb29-d07fab41bd81"
      },
      "execution_count": null,
      "outputs": [
        {
          "output_type": "stream",
          "name": "stdout",
          "text": [
            "HelloWorld\n"
          ]
        }
      ]
    },
    {
      "cell_type": "code",
      "source": [
        "10/3"
      ],
      "metadata": {
        "colab": {
          "base_uri": "https://localhost:8080/"
        },
        "id": "6kaoY8xtEFK9",
        "outputId": "df8c95f1-ef9d-4b61-a048-c548c2206e1f"
      },
      "execution_count": null,
      "outputs": [
        {
          "output_type": "execute_result",
          "data": {
            "text/plain": [
              "3.3333333333333335"
            ]
          },
          "metadata": {},
          "execution_count": 13
        }
      ]
    },
    {
      "cell_type": "code",
      "source": [
        "_"
      ],
      "metadata": {
        "colab": {
          "base_uri": "https://localhost:8080/"
        },
        "id": "dLzmhHQWEHgv",
        "outputId": "57beaaff-a4f9-43f0-9015-5f2b78693be5"
      },
      "execution_count": null,
      "outputs": [
        {
          "output_type": "execute_result",
          "data": {
            "text/plain": [
              "3.3333333333333335"
            ]
          },
          "metadata": {},
          "execution_count": 14
        }
      ]
    },
    {
      "cell_type": "markdown",
      "source": [
        "## Bool"
      ],
      "metadata": {
        "id": "qQ16b2Rv1XVj"
      }
    },
    {
      "cell_type": "code",
      "source": [
        "a = True\n",
        "b = True\n",
        "c = False"
      ],
      "metadata": {
        "id": "tVv9xJlS1R1P"
      },
      "execution_count": null,
      "outputs": []
    },
    {
      "cell_type": "code",
      "source": [
        "%whos"
      ],
      "metadata": {
        "colab": {
          "base_uri": "https://localhost:8080/"
        },
        "id": "3qZ4w-yI1mAE",
        "outputId": "e6f6b8b6-2ace-45bb-e073-80d74560fbcc"
      },
      "execution_count": null,
      "outputs": [
        {
          "output_type": "stream",
          "name": "stdout",
          "text": [
            "Variable   Type       Data/Info\n",
            "-------------------------------\n",
            "a          bool       True\n",
            "b          bool       True\n",
            "c          bool       False\n",
            "d          int        9\n",
            "div_da     float      4.5\n",
            "e          int        10\n",
            "fd_da      int        4\n",
            "mul_ac     int        14\n",
            "poo        str        This is my poo\n",
            "s          str        HelloWorld\n",
            "s1         str        Hello\n",
            "s2         str        World\n",
            "sum_ab     int        7\n",
            "sum_ax     float      7.3\n",
            "tdf_ac     int        128\n",
            "x          float      5.3\n",
            "xyz        complex    (4+5j)\n"
          ]
        }
      ]
    },
    {
      "cell_type": "code",
      "source": [
        "print(a and b)\n",
        "print(a and c)\n",
        "print(b and c)"
      ],
      "metadata": {
        "colab": {
          "base_uri": "https://localhost:8080/"
        },
        "id": "0PdtacH11-5Y",
        "outputId": "5f8b481a-c52e-4b0e-93a6-0cba629cd3ef"
      },
      "execution_count": null,
      "outputs": [
        {
          "output_type": "stream",
          "name": "stdout",
          "text": [
            "True\n",
            "False\n",
            "False\n"
          ]
        }
      ]
    },
    {
      "cell_type": "code",
      "source": [
        "print( a or c)"
      ],
      "metadata": {
        "colab": {
          "base_uri": "https://localhost:8080/"
        },
        "id": "CEV5vSTm2Qyo",
        "outputId": "b7ef6d63-ca7e-440f-b42f-aa5678623c3b"
      },
      "execution_count": null,
      "outputs": [
        {
          "output_type": "stream",
          "name": "stdout",
          "text": [
            "True\n"
          ]
        }
      ]
    },
    {
      "cell_type": "code",
      "source": [
        "print(not(a))\n",
        "print(not(c))"
      ],
      "metadata": {
        "colab": {
          "base_uri": "https://localhost:8080/"
        },
        "id": "RFCL3oYs2V_1",
        "outputId": "da30ad41-b736-448d-9cf4-75065e8235bc"
      },
      "execution_count": null,
      "outputs": [
        {
          "output_type": "stream",
          "name": "stdout",
          "text": [
            "False\n",
            "True\n"
          ]
        }
      ]
    },
    {
      "cell_type": "code",
      "source": [
        "type(b)"
      ],
      "metadata": {
        "colab": {
          "base_uri": "https://localhost:8080/"
        },
        "id": "akBHArs-2mla",
        "outputId": "01e82036-4085-495f-dabb-9550164e5ab4"
      },
      "execution_count": null,
      "outputs": [
        {
          "output_type": "execute_result",
          "data": {
            "text/plain": [
              "bool"
            ]
          },
          "metadata": {},
          "execution_count": 20
        }
      ]
    },
    {
      "cell_type": "code",
      "source": [
        "not((a and b) or (a or c))"
      ],
      "metadata": {
        "colab": {
          "base_uri": "https://localhost:8080/"
        },
        "id": "OrkK1UlP20CZ",
        "outputId": "826b165a-b2b9-44ad-a2c4-bc4e5e1ba29d"
      },
      "execution_count": null,
      "outputs": [
        {
          "output_type": "execute_result",
          "data": {
            "text/plain": [
              "False"
            ]
          },
          "metadata": {},
          "execution_count": 21
        }
      ]
    },
    {
      "cell_type": "markdown",
      "source": [
        "## Comparison"
      ],
      "metadata": {
        "id": "rLpnAMn73yzf"
      }
    },
    {
      "cell_type": "code",
      "source": [
        "print(2<3)"
      ],
      "metadata": {
        "colab": {
          "base_uri": "https://localhost:8080/"
        },
        "id": "8vOtU8K43xdM",
        "outputId": "8fc6f6aa-6182-45ce-a92c-363cbefa1644"
      },
      "execution_count": null,
      "outputs": [
        {
          "output_type": "stream",
          "name": "stdout",
          "text": [
            "True\n"
          ]
        }
      ]
    },
    {
      "cell_type": "code",
      "source": [
        "c = 2 < 3\n",
        "print(c)\n",
        "print(type(c))"
      ],
      "metadata": {
        "colab": {
          "base_uri": "https://localhost:8080/"
        },
        "id": "DGi70OPTAyjJ",
        "outputId": "1188941b-fad2-4d79-bd25-73885efea89d"
      },
      "execution_count": null,
      "outputs": [
        {
          "output_type": "stream",
          "name": "stdout",
          "text": [
            "True\n",
            "<class 'bool'>\n"
          ]
        }
      ]
    },
    {
      "cell_type": "code",
      "source": [
        "3 == 3.0"
      ],
      "metadata": {
        "colab": {
          "base_uri": "https://localhost:8080/"
        },
        "id": "H3AH0kbXBasN",
        "outputId": "c13c029d-412c-427c-869a-19cc7b6b1316"
      },
      "execution_count": null,
      "outputs": [
        {
          "output_type": "execute_result",
          "data": {
            "text/plain": [
              "True"
            ]
          },
          "metadata": {},
          "execution_count": 24
        }
      ]
    },
    {
      "cell_type": "code",
      "source": [
        "3 == 3.5"
      ],
      "metadata": {
        "colab": {
          "base_uri": "https://localhost:8080/"
        },
        "id": "RgZgBjTGBez_",
        "outputId": "85929590-abfa-4f31-ae10-338cce3902a2"
      },
      "execution_count": null,
      "outputs": [
        {
          "output_type": "execute_result",
          "data": {
            "text/plain": [
              "False"
            ]
          },
          "metadata": {},
          "execution_count": 25
        }
      ]
    },
    {
      "cell_type": "code",
      "source": [
        "x = 4\n",
        "y = 9\n",
        "z = 8.3\n",
        "r = -3"
      ],
      "metadata": {
        "id": "nMhjPaHLB3ti"
      },
      "execution_count": null,
      "outputs": []
    },
    {
      "cell_type": "code",
      "source": [
        "(x<y) and (z<y) or (x==r)"
      ],
      "metadata": {
        "colab": {
          "base_uri": "https://localhost:8080/"
        },
        "id": "ImDL9PfcCgRA",
        "outputId": "f58fc157-d528-44aa-e241-76e6d0f3e49a"
      },
      "execution_count": null,
      "outputs": [
        {
          "output_type": "execute_result",
          "data": {
            "text/plain": [
              "True"
            ]
          },
          "metadata": {},
          "execution_count": 27
        }
      ]
    },
    {
      "cell_type": "code",
      "source": [
        "True or False and True"
      ],
      "metadata": {
        "colab": {
          "base_uri": "https://localhost:8080/"
        },
        "id": "3rp0IQqbFjKd",
        "outputId": "93305dd7-cb8c-47cc-e85f-d5d84daaa24b"
      },
      "execution_count": null,
      "outputs": [
        {
          "output_type": "execute_result",
          "data": {
            "text/plain": [
              "True"
            ]
          },
          "metadata": {},
          "execution_count": 28
        }
      ]
    },
    {
      "cell_type": "code",
      "source": [
        "print((not(2!=3) and True) or (False and True))"
      ],
      "metadata": {
        "colab": {
          "base_uri": "https://localhost:8080/"
        },
        "id": "kGgeq7AhGTFk",
        "outputId": "9e0ba785-23c5-46b8-d711-870afcf0bb09"
      },
      "execution_count": null,
      "outputs": [
        {
          "output_type": "stream",
          "name": "stdout",
          "text": [
            "False\n"
          ]
        }
      ]
    },
    {
      "cell_type": "markdown",
      "source": [
        "## Some Useful Function"
      ],
      "metadata": {
        "id": "Vov-AxIYFcXc"
      }
    },
    {
      "cell_type": "code",
      "source": [
        "print(round(4.556))"
      ],
      "metadata": {
        "colab": {
          "base_uri": "https://localhost:8080/"
        },
        "id": "oq1NTKXLFbnA",
        "outputId": "f750bc44-a5f0-4d3b-fee3-ddfaac1b0f19"
      },
      "execution_count": null,
      "outputs": [
        {
          "output_type": "stream",
          "name": "stdout",
          "text": [
            "5\n"
          ]
        }
      ]
    },
    {
      "cell_type": "code",
      "source": [
        "print(round(4.345m))"
      ],
      "metadata": {
        "colab": {
          "base_uri": "https://localhost:8080/"
        },
        "id": "L0s0sWTDFtIF",
        "outputId": "58df41c9-db62-402d-be3c-ec3825974b98"
      },
      "execution_count": null,
      "outputs": [
        {
          "output_type": "stream",
          "name": "stdout",
          "text": [
            "4\n"
          ]
        }
      ]
    },
    {
      "cell_type": "code",
      "source": [
        "print(round(4.36876,2))"
      ],
      "metadata": {
        "colab": {
          "base_uri": "https://localhost:8080/"
        },
        "id": "8jACqbydGFXL",
        "outputId": "22972bc6-a194-4a61-c602-9b7a18a1d16d"
      },
      "execution_count": null,
      "outputs": [
        {
          "output_type": "stream",
          "name": "stdout",
          "text": [
            "4.37\n"
          ]
        }
      ]
    },
    {
      "cell_type": "code",
      "source": [
        "g = divmod(34,9)\n",
        "print(g)\n",
        "type(g)"
      ],
      "metadata": {
        "colab": {
          "base_uri": "https://localhost:8080/"
        },
        "id": "Ktfq5FdJMCZh",
        "outputId": "fe4678b7-0ca0-406a-fbb3-ed7087c6dc2c"
      },
      "execution_count": null,
      "outputs": [
        {
          "output_type": "stream",
          "name": "stdout",
          "text": [
            "(3, 7)\n"
          ]
        },
        {
          "output_type": "execute_result",
          "data": {
            "text/plain": [
              "tuple"
            ]
          },
          "metadata": {},
          "execution_count": 35
        }
      ]
    },
    {
      "cell_type": "code",
      "source": [
        "print(g[0])\n",
        "print(g[1])"
      ],
      "metadata": {
        "colab": {
          "base_uri": "https://localhost:8080/"
        },
        "id": "Va5qkZZNMdQy",
        "outputId": "ab946bdb-6961-4aab-9754-ca58cefd7c5f"
      },
      "execution_count": null,
      "outputs": [
        {
          "output_type": "stream",
          "name": "stdout",
          "text": [
            "3\n",
            "7\n"
          ]
        }
      ]
    },
    {
      "cell_type": "code",
      "source": [
        "isinstance(3,int)"
      ],
      "metadata": {
        "colab": {
          "base_uri": "https://localhost:8080/"
        },
        "id": "KvI-3vF1O4rS",
        "outputId": "21db9b02-2f4c-4d9c-b258-3b735fb6ae0a"
      },
      "execution_count": null,
      "outputs": [
        {
          "output_type": "execute_result",
          "data": {
            "text/plain": [
              "True"
            ]
          },
          "metadata": {},
          "execution_count": 38
        }
      ]
    },
    {
      "cell_type": "code",
      "source": [
        "isinstance(3.4, int)"
      ],
      "metadata": {
        "colab": {
          "base_uri": "https://localhost:8080/"
        },
        "id": "O3jCxBOMPCC1",
        "outputId": "2a7c6313-031a-4591-c3f4-2fd6d986bebc"
      },
      "execution_count": null,
      "outputs": [
        {
          "output_type": "execute_result",
          "data": {
            "text/plain": [
              "False"
            ]
          },
          "metadata": {},
          "execution_count": 39
        }
      ]
    },
    {
      "cell_type": "code",
      "source": [
        "isinstance(3.4,(int,float))"
      ],
      "metadata": {
        "colab": {
          "base_uri": "https://localhost:8080/"
        },
        "id": "R2qSRr9qPTrl",
        "outputId": "159b8f48-32a8-42c5-fe25-6552e1609370"
      },
      "execution_count": null,
      "outputs": [
        {
          "output_type": "execute_result",
          "data": {
            "text/plain": [
              "True"
            ]
          },
          "metadata": {},
          "execution_count": 40
        }
      ]
    },
    {
      "cell_type": "code",
      "source": [
        "isinstance(2+3j, (int,float,complex))"
      ],
      "metadata": {
        "colab": {
          "base_uri": "https://localhost:8080/"
        },
        "id": "1xBnioHtPZU5",
        "outputId": "54a47f15-6af5-4796-978c-3e4e53416a9d"
      },
      "execution_count": null,
      "outputs": [
        {
          "output_type": "execute_result",
          "data": {
            "text/plain": [
              "True"
            ]
          },
          "metadata": {},
          "execution_count": 42
        }
      ]
    },
    {
      "cell_type": "code",
      "source": [
        "pow(2,4)"
      ],
      "metadata": {
        "colab": {
          "base_uri": "https://localhost:8080/"
        },
        "id": "u4K4Fa8XQ-rr",
        "outputId": "0b390b95-0645-40ec-ad0d-d694fc0dba6d"
      },
      "execution_count": null,
      "outputs": [
        {
          "output_type": "execute_result",
          "data": {
            "text/plain": [
              "16"
            ]
          },
          "metadata": {},
          "execution_count": 43
        }
      ]
    },
    {
      "cell_type": "code",
      "source": [
        "2**4"
      ],
      "metadata": {
        "colab": {
          "base_uri": "https://localhost:8080/"
        },
        "id": "Q8jYGGBTRBxN",
        "outputId": "0753a31c-5e77-412e-d1a0-cbb777a22288"
      },
      "execution_count": null,
      "outputs": [
        {
          "output_type": "execute_result",
          "data": {
            "text/plain": [
              "16"
            ]
          },
          "metadata": {},
          "execution_count": 44
        }
      ]
    },
    {
      "cell_type": "code",
      "source": [
        "pow(2,4,6)"
      ],
      "metadata": {
        "colab": {
          "base_uri": "https://localhost:8080/"
        },
        "id": "7zZzH6_pRSuS",
        "outputId": "6d4d5341-7c98-4a4e-f234-5c276d41a875"
      },
      "execution_count": null,
      "outputs": [
        {
          "output_type": "execute_result",
          "data": {
            "text/plain": [
              "4"
            ]
          },
          "metadata": {},
          "execution_count": 46
        }
      ]
    },
    {
      "cell_type": "code",
      "source": [
        "x = input(\"Enter a number: \")"
      ],
      "metadata": {
        "colab": {
          "base_uri": "https://localhost:8080/"
        },
        "id": "NZqG8C0wR_Ld",
        "outputId": "e346a60d-83f3-45cf-fb5d-2fe6d12d0fcf"
      },
      "execution_count": null,
      "outputs": [
        {
          "name": "stdout",
          "output_type": "stream",
          "text": [
            "Enter a number: 11\n"
          ]
        }
      ]
    },
    {
      "cell_type": "code",
      "source": [
        "type(x)"
      ],
      "metadata": {
        "colab": {
          "base_uri": "https://localhost:8080/"
        },
        "id": "Oczv0lRoSMFA",
        "outputId": "af1464e0-dc85-41dc-a20a-480b0d04cc99"
      },
      "execution_count": null,
      "outputs": [
        {
          "output_type": "execute_result",
          "data": {
            "text/plain": [
              "str"
            ]
          },
          "metadata": {},
          "execution_count": 48
        }
      ]
    },
    {
      "cell_type": "code",
      "source": [
        "x = int(x)\n",
        "type(x)"
      ],
      "metadata": {
        "colab": {
          "base_uri": "https://localhost:8080/"
        },
        "id": "oEkO_soPSaql",
        "outputId": "f2b94d8f-3d99-4dd7-8365-daf8f9037c5d"
      },
      "execution_count": null,
      "outputs": [
        {
          "output_type": "execute_result",
          "data": {
            "text/plain": [
              "int"
            ]
          },
          "metadata": {},
          "execution_count": 50
        }
      ]
    },
    {
      "cell_type": "code",
      "source": [
        "print(x-8)"
      ],
      "metadata": {
        "colab": {
          "base_uri": "https://localhost:8080/"
        },
        "id": "RxUnVCnMSjp0",
        "outputId": "b53e8d94-486d-4008-fcbd-e9f016ea997f"
      },
      "execution_count": null,
      "outputs": [
        {
          "output_type": "stream",
          "name": "stdout",
          "text": [
            "3\n"
          ]
        }
      ]
    },
    {
      "cell_type": "code",
      "source": [
        "a = float(input(\"Enter a real number: \"))"
      ],
      "metadata": {
        "colab": {
          "base_uri": "https://localhost:8080/"
        },
        "id": "N5BhqHCPUnKK",
        "outputId": "7690bc0d-892d-49ad-f420-e753cf0611f0"
      },
      "execution_count": null,
      "outputs": [
        {
          "name": "stdout",
          "output_type": "stream",
          "text": [
            "Enter a real number: 65.8\n"
          ]
        }
      ]
    },
    {
      "cell_type": "code",
      "source": [
        "type(a)"
      ],
      "metadata": {
        "colab": {
          "base_uri": "https://localhost:8080/"
        },
        "id": "gV_Du6wIUupZ",
        "outputId": "a63ab125-2b10-4e33-d476-0e890c179712"
      },
      "execution_count": null,
      "outputs": [
        {
          "output_type": "execute_result",
          "data": {
            "text/plain": [
              "float"
            ]
          },
          "metadata": {},
          "execution_count": 55
        }
      ]
    },
    {
      "cell_type": "code",
      "source": [
        "pow?"
      ],
      "metadata": {
        "id": "whJYGBHlVcQ-"
      },
      "execution_count": null,
      "outputs": []
    },
    {
      "cell_type": "code",
      "source": [
        "help(input)"
      ],
      "metadata": {
        "colab": {
          "base_uri": "https://localhost:8080/"
        },
        "id": "w6nnxcpTVmQn",
        "outputId": "d6bbad86-2cc0-4293-f7a9-e96e510b1c08"
      },
      "execution_count": null,
      "outputs": [
        {
          "output_type": "stream",
          "name": "stdout",
          "text": [
            "Help on method raw_input in module ipykernel.kernelbase:\n",
            "\n",
            "raw_input(prompt='') method of google.colab._kernel.Kernel instance\n",
            "    Forward raw_input to frontends\n",
            "    \n",
            "    Raises\n",
            "    ------\n",
            "    StdinNotImplentedError if active frontend doesn't support stdin.\n",
            "\n"
          ]
        }
      ]
    },
    {
      "cell_type": "markdown",
      "source": [
        "## Control Flow(if, if-else, if-elif-else, short-hand-if, nested-if, loops)"
      ],
      "metadata": {
        "id": "r5h0RvGPRpPE"
      }
    },
    {
      "cell_type": "code",
      "source": [
        "a = int(input(\"Enter the number of a : \"))\n",
        "b = int(input(\"Enetr the number of b : \"))\n",
        "if(a>b):\n",
        "    print(\"a is greater than b :\",a)\n",
        "if(b>a):\n",
        "    print(\"b is greater than a :\",b)    "
      ],
      "metadata": {
        "colab": {
          "base_uri": "https://localhost:8080/"
        },
        "id": "rvTrqUgDImtG",
        "outputId": "909e9831-1cb2-466f-9b24-f64623de7b65"
      },
      "execution_count": null,
      "outputs": [
        {
          "output_type": "stream",
          "name": "stdout",
          "text": [
            "Enter the number of a : 45\n",
            "Enetr the number of b : 77\n",
            "b is greater than a : 77\n"
          ]
        }
      ]
    },
    {
      "cell_type": "code",
      "source": [
        "a = int(input(\"Enter the number of a : \"))\n",
        "b = int(input(\"Enetr the number of b : \"))\n",
        "if(a>b):\n",
        "    print(\"a is greater than b :\",a)\n",
        "else:\n",
        "    print(\"b is greater than a :\",b)  "
      ],
      "metadata": {
        "colab": {
          "base_uri": "https://localhost:8080/"
        },
        "id": "pQ_gOmnxSpkF",
        "outputId": "3c66f121-0db6-4144-d355-ecc3de04c548"
      },
      "execution_count": null,
      "outputs": [
        {
          "output_type": "stream",
          "name": "stdout",
          "text": [
            "Enter the number of a : 88\n",
            "Enetr the number of b : 99\n",
            "b is greater than a : 99\n"
          ]
        }
      ]
    },
    {
      "cell_type": "code",
      "source": [
        "a = int(input(\"Enter the number of a: \"))\n",
        "b = int(input(\"Enter the number of b: \"))\n",
        "if(a>b):\n",
        "    print(\"a is greater than b\")\n",
        "elif(a<b):\n",
        "    print(\"b is greater than a\")\n",
        "else:\n",
        "    print(\"a is equal to b\")"
      ],
      "metadata": {
        "colab": {
          "base_uri": "https://localhost:8080/"
        },
        "id": "Hig0FfSlUN-U",
        "outputId": "53759587-701e-4836-c384-8870276c91c7"
      },
      "execution_count": null,
      "outputs": [
        {
          "output_type": "stream",
          "name": "stdout",
          "text": [
            "Enter the number of a: 34\n",
            "Enter the number of b: 34\n",
            "a is equal to b\n"
          ]
        }
      ]
    },
    {
      "cell_type": "code",
      "source": [
        "a = int(input())\n",
        "b = int(input())\n",
        "print(\"A\") if a>b else print(\"B\") if b>a else print(\"C\")"
      ],
      "metadata": {
        "colab": {
          "base_uri": "https://localhost:8080/"
        },
        "id": "so8x8mu4d8W0",
        "outputId": "834c5eaa-057d-4fbb-8d29-4dc83a24b924"
      },
      "execution_count": null,
      "outputs": [
        {
          "output_type": "stream",
          "name": "stdout",
          "text": [
            "56\n",
            "99\n",
            "B\n"
          ]
        }
      ]
    },
    {
      "cell_type": "code",
      "source": [
        "a = int(input(\"Enter marks: \"))\n",
        "if(a>=80 and a<=100):\n",
        "    print(\"A+\")\n",
        "elif(x>100):\n",
        "    print(\"Error\")\n",
        "elif(a>=70 and a<80):\n",
        "    print(\"A-\")\n",
        "elif(a>=60 and a<70):\n",
        "    print(\"B+\")\n",
        "elif(a<33):\n",
        "    print(\"Failed\")\n",
        "else:\n",
        "    print(\"Average\")"
      ],
      "metadata": {
        "colab": {
          "base_uri": "https://localhost:8080/"
        },
        "id": "w71PU5UmiBJd",
        "outputId": "f60aff05-a691-4c67-bc11-db558bde0dca"
      },
      "execution_count": null,
      "outputs": [
        {
          "output_type": "stream",
          "name": "stdout",
          "text": [
            "Enter marks: 444\n",
            "Error\n"
          ]
        }
      ]
    },
    {
      "cell_type": "code",
      "source": [
        "a = 10\n",
        "if(a>10):\n",
        "    print(\"a is greater than 10\")\n",
        "elif not(a>10):\n",
        "    print(\"a is not greater than 10\")"
      ],
      "metadata": {
        "colab": {
          "base_uri": "https://localhost:8080/"
        },
        "id": "7OCKPdg9i7jt",
        "outputId": "4e6f9b09-fe13-4a87-e85f-4feb64da635a"
      },
      "execution_count": null,
      "outputs": [
        {
          "output_type": "stream",
          "name": "stdout",
          "text": [
            "a is not greater than 10\n"
          ]
        }
      ]
    },
    {
      "cell_type": "code",
      "source": [
        "x = int(input(\"Enter a number: \"))\n",
        "if(x>33 and x<=100):\n",
        "    print(\"Passed\")\n",
        "    if(x>=80):\n",
        "        print(\"A+\")\n",
        "    else:\n",
        "        print(\"Average\")\n",
        "elif(x>100):\n",
        "    print(\"Error\")\n",
        "else:\n",
        "    print(\"Failed\")"
      ],
      "metadata": {
        "colab": {
          "base_uri": "https://localhost:8080/"
        },
        "id": "hZ9-P1ifHFwc",
        "outputId": "1947bc35-a1f6-4553-a476-6d1a1352cab3"
      },
      "execution_count": null,
      "outputs": [
        {
          "output_type": "stream",
          "name": "stdout",
          "text": [
            "Enter a number: 89\n",
            "Passed\n",
            "A+\n"
          ]
        }
      ]
    },
    {
      "cell_type": "code",
      "source": [
        "# Single Line Comment\n",
        "\"\"\"\n",
        "User will enter a floating point number. \n",
        "Your task is to find the integer portion before the point and \n",
        "check if that integer number is even number or not?\n",
        "\"\"\"\n",
        "\n",
        "x = float(input(\"Enter a floating point number: \"))\n",
        "y = round(x)\n",
        "if(x>0):\n",
        "    if(y>x):\n",
        "        intportion = y-1\n",
        "    else:\n",
        "        intportion = y\n",
        "else:\n",
        "    if(y<x):\n",
        "        intportion = y+1\n",
        "    else:\n",
        "        intportion = y\n",
        "print(intportion)\n",
        "if(intportion%2 == 0):\n",
        "    print(\"Intportion is an even number\")\n",
        "else:\n",
        "    print(\"Intportion is an odd number\")"
      ],
      "metadata": {
        "colab": {
          "base_uri": "https://localhost:8080/"
        },
        "id": "q3wD8VudO0pa",
        "outputId": "776e560b-1ef4-43a7-c520-4c596e6a0bed"
      },
      "execution_count": 19,
      "outputs": [
        {
          "output_type": "stream",
          "name": "stdout",
          "text": [
            "Enter a floating point number: -9.88\n",
            "-9\n",
            "Intportion is an odd number\n"
          ]
        }
      ]
    },
    {
      "cell_type": "code",
      "source": [
        "n = int(input(\"Enter a number\"))\n",
        "i = 1\n",
        "while(i<n):\n",
        "    print(i**2,\"-> This is iteration number 1\")\n",
        "    i+=1\n",
        "print(\"Loop done\")\n"
      ],
      "metadata": {
        "colab": {
          "base_uri": "https://localhost:8080/"
        },
        "id": "zSej5F7gcyoP",
        "outputId": "c05c8acd-6776-4278-afd5-ee80348e20cb"
      },
      "execution_count": 23,
      "outputs": [
        {
          "output_type": "stream",
          "name": "stdout",
          "text": [
            "Enter a number10\n",
            "1 -> This is iteration number 1\n",
            "4 -> This is iteration number 1\n",
            "9 -> This is iteration number 1\n",
            "16 -> This is iteration number 1\n",
            "25 -> This is iteration number 1\n",
            "36 -> This is iteration number 1\n",
            "49 -> This is iteration number 1\n",
            "64 -> This is iteration number 1\n",
            "81 -> This is iteration number 1\n",
            "Loop done\n"
          ]
        }
      ]
    }
  ]
}