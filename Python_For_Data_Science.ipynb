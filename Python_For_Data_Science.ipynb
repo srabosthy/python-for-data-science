{
  "nbformat": 4,
  "nbformat_minor": 0,
  "metadata": {
    "colab": {
      "name": "Python For Data Science.ipynb",
      "provenance": [],
      "collapsed_sections": [],
      "authorship_tag": "ABX9TyO/CxDIvh+akULW/cQRWE3g",
      "include_colab_link": true
    },
    "kernelspec": {
      "name": "python3",
      "display_name": "Python 3"
    },
    "language_info": {
      "name": "python"
    }
  },
  "cells": [
    {
      "cell_type": "markdown",
      "metadata": {
        "id": "view-in-github",
        "colab_type": "text"
      },
      "source": [
        "<a href=\"https://colab.research.google.com/github/srabosthy/python-for-data-science/blob/main/Python_For_Data_Science.ipynb\" target=\"_parent\"><img src=\"https://colab.research.google.com/assets/colab-badge.svg\" alt=\"Open In Colab\"/></a>"
      ]
    },
    {
      "cell_type": "markdown",
      "source": [
        "## 1) Variables"
      ],
      "metadata": {
        "id": "VHCe4eED3AoH"
      }
    },
    {
      "cell_type": "code",
      "execution_count": 17,
      "metadata": {
        "colab": {
          "base_uri": "https://localhost:8080/"
        },
        "id": "TQ0chHQj22ir",
        "outputId": "632afb2b-6712-4f10-cbbd-a84b6ca317b9"
      },
      "outputs": [
        {
          "output_type": "stream",
          "name": "stdout",
          "text": [
            "Hello world\n"
          ]
        }
      ],
      "source": [
        "print('Hello world')"
      ]
    },
    {
      "cell_type": "code",
      "source": [
        "x = 7\n",
        "%whos\n",
        "print(type(x))\n",
        "\n",
        "x = 5.3\n",
        "print(type(x))\n",
        "\n",
        "abcd = 123.34"
      ],
      "metadata": {
        "colab": {
          "base_uri": "https://localhost:8080/"
        },
        "id": "nSW_GRSP-QXS",
        "outputId": "4e785046-9797-473c-c714-d3210cf82f41"
      },
      "execution_count": 18,
      "outputs": [
        {
          "output_type": "stream",
          "name": "stdout",
          "text": [
            "Variable   Type       Data/Info\n",
            "-------------------------------\n",
            "a          bool       True\n",
            "b          bool       True\n",
            "c          bool       False\n",
            "d          int        9\n",
            "div_da     float      4.5\n",
            "e          int        10\n",
            "fd_da      int        4\n",
            "mul_ac     int        14\n",
            "poo        str        This is my poo\n",
            "s          str        HelloWorld\n",
            "s1         str        Hello\n",
            "s2         str        World\n",
            "sum_ab     int        7\n",
            "sum_ax     float      7.3\n",
            "tdf_ac     int        128\n",
            "x          int        7\n",
            "xyz        complex    (4+5j)\n",
            "<class 'int'>\n",
            "<class 'float'>\n"
          ]
        }
      ]
    },
    {
      "cell_type": "code",
      "source": [
        "a,b,c,d,e = 2,5,7,9,10\n",
        "%whos"
      ],
      "metadata": {
        "colab": {
          "base_uri": "https://localhost:8080/"
        },
        "id": "dRadqXBwJzcc",
        "outputId": "ed1bf5a3-4338-426d-9ba7-09a79c00c9f5"
      },
      "execution_count": 19,
      "outputs": [
        {
          "output_type": "stream",
          "name": "stdout",
          "text": [
            "Variable   Type       Data/Info\n",
            "-------------------------------\n",
            "a          int        2\n",
            "abcd       float      123.34\n",
            "b          int        5\n",
            "c          int        7\n",
            "d          int        9\n",
            "div_da     float      4.5\n",
            "e          int        10\n",
            "fd_da      int        4\n",
            "mul_ac     int        14\n",
            "poo        str        This is my poo\n",
            "s          str        HelloWorld\n",
            "s1         str        Hello\n",
            "s2         str        World\n",
            "sum_ab     int        7\n",
            "sum_ax     float      7.3\n",
            "tdf_ac     int        128\n",
            "x          float      5.3\n",
            "xyz        complex    (4+5j)\n"
          ]
        }
      ]
    },
    {
      "cell_type": "code",
      "source": [
        "del abcd\n",
        "%whos\n",
        "# print(abcd)"
      ],
      "metadata": {
        "colab": {
          "base_uri": "https://localhost:8080/"
        },
        "id": "SgPB6w8tKi8Y",
        "outputId": "18e8d6b1-49d9-4c0a-febd-7f2f01b420f3"
      },
      "execution_count": 20,
      "outputs": [
        {
          "output_type": "stream",
          "name": "stdout",
          "text": [
            "Variable   Type       Data/Info\n",
            "-------------------------------\n",
            "a          int        2\n",
            "b          int        5\n",
            "c          int        7\n",
            "d          int        9\n",
            "div_da     float      4.5\n",
            "e          int        10\n",
            "fd_da      int        4\n",
            "mul_ac     int        14\n",
            "poo        str        This is my poo\n",
            "s          str        HelloWorld\n",
            "s1         str        Hello\n",
            "s2         str        World\n",
            "sum_ab     int        7\n",
            "sum_ax     float      7.3\n",
            "tdf_ac     int        128\n",
            "x          float      5.3\n",
            "xyz        complex    (4+5j)\n"
          ]
        }
      ]
    },
    {
      "cell_type": "code",
      "source": [
        "xyz = 4 + 5j\n",
        "print(type(xyz))"
      ],
      "metadata": {
        "colab": {
          "base_uri": "https://localhost:8080/"
        },
        "id": "1A5Vc1xkMGN6",
        "outputId": "cfd9caa3-debb-4d02-ec53-33afd905aa2a"
      },
      "execution_count": 21,
      "outputs": [
        {
          "output_type": "stream",
          "name": "stdout",
          "text": [
            "<class 'complex'>\n"
          ]
        }
      ]
    },
    {
      "cell_type": "code",
      "source": [
        "poo = \"This is my poo\"\n",
        "print(type(poo))"
      ],
      "metadata": {
        "colab": {
          "base_uri": "https://localhost:8080/"
        },
        "id": "097NWeecMQmy",
        "outputId": "dcac71f2-c78f-4be7-bd15-d6cfcec66bb9"
      },
      "execution_count": 22,
      "outputs": [
        {
          "output_type": "stream",
          "name": "stdout",
          "text": [
            "<class 'str'>\n"
          ]
        }
      ]
    },
    {
      "cell_type": "markdown",
      "source": [
        "## Operators"
      ],
      "metadata": {
        "id": "JXHkzzs2-ytx"
      }
    },
    {
      "cell_type": "code",
      "source": [
        "%whos"
      ],
      "metadata": {
        "colab": {
          "base_uri": "https://localhost:8080/"
        },
        "id": "xFDSZV_H-2Bm",
        "outputId": "562d3412-5ec8-4149-9f59-254a4b6311c8"
      },
      "execution_count": 23,
      "outputs": [
        {
          "output_type": "stream",
          "name": "stdout",
          "text": [
            "Variable   Type       Data/Info\n",
            "-------------------------------\n",
            "a          int        2\n",
            "b          int        5\n",
            "c          int        7\n",
            "d          int        9\n",
            "div_da     float      4.5\n",
            "e          int        10\n",
            "fd_da      int        4\n",
            "mul_ac     int        14\n",
            "poo        str        This is my poo\n",
            "s          str        HelloWorld\n",
            "s1         str        Hello\n",
            "s2         str        World\n",
            "sum_ab     int        7\n",
            "sum_ax     float      7.3\n",
            "tdf_ac     int        128\n",
            "x          float      5.3\n",
            "xyz        complex    (4+5j)\n"
          ]
        }
      ]
    },
    {
      "cell_type": "code",
      "source": [
        "sum_ab = a + b\n",
        "print(sum_ab)\n",
        "type(sum_ab)"
      ],
      "metadata": {
        "colab": {
          "base_uri": "https://localhost:8080/"
        },
        "id": "UpiE-kOCAFs1",
        "outputId": "f1ceee52-48a0-49a7-e70f-6eecda8f1e4a"
      },
      "execution_count": 24,
      "outputs": [
        {
          "output_type": "stream",
          "name": "stdout",
          "text": [
            "7\n"
          ]
        },
        {
          "output_type": "execute_result",
          "data": {
            "text/plain": [
              "int"
            ]
          },
          "metadata": {},
          "execution_count": 24
        }
      ]
    },
    {
      "cell_type": "code",
      "source": [
        "sum_ax = a+x\n",
        "print(sum_ax)"
      ],
      "metadata": {
        "colab": {
          "base_uri": "https://localhost:8080/"
        },
        "id": "EbTp962DBO8i",
        "outputId": "b5ed95e5-d029-4243-e2e6-5986100bac2c"
      },
      "execution_count": 25,
      "outputs": [
        {
          "output_type": "stream",
          "name": "stdout",
          "text": [
            "7.3\n"
          ]
        }
      ]
    },
    {
      "cell_type": "code",
      "source": [
        "div_da = d/a\n",
        "print(div_da)\n",
        "\n",
        "fd_da = d//a\n",
        "print(fd_da)"
      ],
      "metadata": {
        "colab": {
          "base_uri": "https://localhost:8080/"
        },
        "id": "GP7jJNvHBhoC",
        "outputId": "3fb64fe3-aa47-4bfa-8bd2-fd161ed4960c"
      },
      "execution_count": 26,
      "outputs": [
        {
          "output_type": "stream",
          "name": "stdout",
          "text": [
            "4.5\n",
            "4\n"
          ]
        }
      ]
    },
    {
      "cell_type": "code",
      "source": [
        "mul_ac = a * c\n",
        "print(mul_ac)\n",
        "\n",
        "tdf_ac = a ** c\n",
        "print(tdf_ac)"
      ],
      "metadata": {
        "colab": {
          "base_uri": "https://localhost:8080/"
        },
        "id": "I5JotJmpFBgJ",
        "outputId": "45b3ae65-ef4f-4c38-a362-51da0ade9977"
      },
      "execution_count": 27,
      "outputs": [
        {
          "output_type": "stream",
          "name": "stdout",
          "text": [
            "14\n",
            "128\n"
          ]
        }
      ]
    },
    {
      "cell_type": "code",
      "source": [
        "s1 = \"Hello\"\n",
        "s2 = \"World\"\n",
        "s = s1 + s2\n",
        "print(s)"
      ],
      "metadata": {
        "colab": {
          "base_uri": "https://localhost:8080/"
        },
        "id": "yW2SKNGiB0-y",
        "outputId": "05f26f3a-945c-4f5e-f5b6-1b32b33ce010"
      },
      "execution_count": 28,
      "outputs": [
        {
          "output_type": "stream",
          "name": "stdout",
          "text": [
            "HelloWorld\n"
          ]
        }
      ]
    },
    {
      "cell_type": "code",
      "source": [
        "10/3"
      ],
      "metadata": {
        "colab": {
          "base_uri": "https://localhost:8080/"
        },
        "id": "6kaoY8xtEFK9",
        "outputId": "d028e03e-099f-44a2-c473-279207545c05"
      },
      "execution_count": 29,
      "outputs": [
        {
          "output_type": "execute_result",
          "data": {
            "text/plain": [
              "3.3333333333333335"
            ]
          },
          "metadata": {},
          "execution_count": 29
        }
      ]
    },
    {
      "cell_type": "code",
      "source": [
        "_"
      ],
      "metadata": {
        "colab": {
          "base_uri": "https://localhost:8080/"
        },
        "id": "dLzmhHQWEHgv",
        "outputId": "4adac0d7-ae4b-48b3-970a-41bd1a9aeec6"
      },
      "execution_count": 30,
      "outputs": [
        {
          "output_type": "execute_result",
          "data": {
            "text/plain": [
              "3.3333333333333335"
            ]
          },
          "metadata": {},
          "execution_count": 30
        }
      ]
    },
    {
      "cell_type": "markdown",
      "source": [
        "## Bool"
      ],
      "metadata": {
        "id": "qQ16b2Rv1XVj"
      }
    },
    {
      "cell_type": "code",
      "source": [
        "a = True\n",
        "b = True\n",
        "c = False"
      ],
      "metadata": {
        "id": "tVv9xJlS1R1P"
      },
      "execution_count": 31,
      "outputs": []
    },
    {
      "cell_type": "code",
      "source": [
        "%whos"
      ],
      "metadata": {
        "colab": {
          "base_uri": "https://localhost:8080/"
        },
        "id": "3qZ4w-yI1mAE",
        "outputId": "285edab8-afda-415a-a44b-4c5f5ed0c410"
      },
      "execution_count": 32,
      "outputs": [
        {
          "output_type": "stream",
          "name": "stdout",
          "text": [
            "Variable   Type       Data/Info\n",
            "-------------------------------\n",
            "a          bool       True\n",
            "b          bool       True\n",
            "c          bool       False\n",
            "d          int        9\n",
            "div_da     float      4.5\n",
            "e          int        10\n",
            "fd_da      int        4\n",
            "mul_ac     int        14\n",
            "poo        str        This is my poo\n",
            "s          str        HelloWorld\n",
            "s1         str        Hello\n",
            "s2         str        World\n",
            "sum_ab     int        7\n",
            "sum_ax     float      7.3\n",
            "tdf_ac     int        128\n",
            "x          float      5.3\n",
            "xyz        complex    (4+5j)\n"
          ]
        }
      ]
    },
    {
      "cell_type": "code",
      "source": [
        "print(a and b)\n",
        "print(a and c)\n",
        "print(b and c)"
      ],
      "metadata": {
        "colab": {
          "base_uri": "https://localhost:8080/"
        },
        "id": "0PdtacH11-5Y",
        "outputId": "ef3bf857-d52f-4cb9-8d89-95fac64ec6c5"
      },
      "execution_count": 33,
      "outputs": [
        {
          "output_type": "stream",
          "name": "stdout",
          "text": [
            "True\n",
            "False\n",
            "False\n"
          ]
        }
      ]
    },
    {
      "cell_type": "code",
      "source": [
        "print( a or c)"
      ],
      "metadata": {
        "colab": {
          "base_uri": "https://localhost:8080/"
        },
        "id": "CEV5vSTm2Qyo",
        "outputId": "e8363e70-8137-40bf-f550-e54e0caf3faf"
      },
      "execution_count": 34,
      "outputs": [
        {
          "output_type": "stream",
          "name": "stdout",
          "text": [
            "True\n"
          ]
        }
      ]
    },
    {
      "cell_type": "code",
      "source": [
        "print(not(a))\n",
        "print(not(c))"
      ],
      "metadata": {
        "colab": {
          "base_uri": "https://localhost:8080/"
        },
        "id": "RFCL3oYs2V_1",
        "outputId": "b0399715-dac8-4d7b-db71-dc8222703213"
      },
      "execution_count": 36,
      "outputs": [
        {
          "output_type": "stream",
          "name": "stdout",
          "text": [
            "False\n",
            "True\n"
          ]
        }
      ]
    },
    {
      "cell_type": "code",
      "source": [
        "type(b)"
      ],
      "metadata": {
        "colab": {
          "base_uri": "https://localhost:8080/"
        },
        "id": "akBHArs-2mla",
        "outputId": "98d522f3-907b-46ba-e8b6-8cecce97d12b"
      },
      "execution_count": 37,
      "outputs": [
        {
          "output_type": "execute_result",
          "data": {
            "text/plain": [
              "bool"
            ]
          },
          "metadata": {},
          "execution_count": 37
        }
      ]
    },
    {
      "cell_type": "code",
      "source": [
        "not((a and b) or (a or c))"
      ],
      "metadata": {
        "colab": {
          "base_uri": "https://localhost:8080/"
        },
        "id": "OrkK1UlP20CZ",
        "outputId": "a8ef0427-9d3e-41c7-acab-18f8fde194f6"
      },
      "execution_count": 38,
      "outputs": [
        {
          "output_type": "execute_result",
          "data": {
            "text/plain": [
              "False"
            ]
          },
          "metadata": {},
          "execution_count": 38
        }
      ]
    },
    {
      "cell_type": "markdown",
      "source": [
        "## Comparison"
      ],
      "metadata": {
        "id": "rLpnAMn73yzf"
      }
    },
    {
      "cell_type": "code",
      "source": [
        "print(2<3)"
      ],
      "metadata": {
        "colab": {
          "base_uri": "https://localhost:8080/"
        },
        "id": "8vOtU8K43xdM",
        "outputId": "dab3c03a-e766-4d46-fb54-5761c7061d1e"
      },
      "execution_count": 39,
      "outputs": [
        {
          "output_type": "stream",
          "name": "stdout",
          "text": [
            "True\n"
          ]
        }
      ]
    },
    {
      "cell_type": "code",
      "source": [
        "c = 2 < 3\n",
        "print(c)\n",
        "print(type(c))"
      ],
      "metadata": {
        "colab": {
          "base_uri": "https://localhost:8080/"
        },
        "id": "DGi70OPTAyjJ",
        "outputId": "e833c0d3-0d4f-4638-e6b8-35fe2905f199"
      },
      "execution_count": 40,
      "outputs": [
        {
          "output_type": "stream",
          "name": "stdout",
          "text": [
            "True\n",
            "<class 'bool'>\n"
          ]
        }
      ]
    },
    {
      "cell_type": "code",
      "source": [
        "3 == 3.0"
      ],
      "metadata": {
        "colab": {
          "base_uri": "https://localhost:8080/"
        },
        "id": "H3AH0kbXBasN",
        "outputId": "3ee00890-2bef-4652-af63-5caa1224cf85"
      },
      "execution_count": 41,
      "outputs": [
        {
          "output_type": "execute_result",
          "data": {
            "text/plain": [
              "True"
            ]
          },
          "metadata": {},
          "execution_count": 41
        }
      ]
    },
    {
      "cell_type": "code",
      "source": [
        "3 == 3.5"
      ],
      "metadata": {
        "colab": {
          "base_uri": "https://localhost:8080/"
        },
        "id": "RgZgBjTGBez_",
        "outputId": "0856f3b2-2ce4-46d7-8eaf-bee96f941fe1"
      },
      "execution_count": 42,
      "outputs": [
        {
          "output_type": "execute_result",
          "data": {
            "text/plain": [
              "False"
            ]
          },
          "metadata": {},
          "execution_count": 42
        }
      ]
    },
    {
      "cell_type": "code",
      "source": [
        "x = 4\n",
        "y = 9\n",
        "z = 8.3\n",
        "r = -3"
      ],
      "metadata": {
        "id": "nMhjPaHLB3ti"
      },
      "execution_count": 44,
      "outputs": []
    },
    {
      "cell_type": "code",
      "source": [
        "(x<y) and (z<y) or (x==r)"
      ],
      "metadata": {
        "colab": {
          "base_uri": "https://localhost:8080/"
        },
        "id": "ImDL9PfcCgRA",
        "outputId": "bd2d19ca-91ee-43f9-aa6e-b0fa3b252977"
      },
      "execution_count": 45,
      "outputs": [
        {
          "output_type": "execute_result",
          "data": {
            "text/plain": [
              "True"
            ]
          },
          "metadata": {},
          "execution_count": 45
        }
      ]
    },
    {
      "cell_type": "code",
      "source": [
        "True or False and True"
      ],
      "metadata": {
        "colab": {
          "base_uri": "https://localhost:8080/"
        },
        "id": "3rp0IQqbFjKd",
        "outputId": "7d47d439-4417-463d-8aa6-82aec695fe60"
      },
      "execution_count": 46,
      "outputs": [
        {
          "output_type": "execute_result",
          "data": {
            "text/plain": [
              "True"
            ]
          },
          "metadata": {},
          "execution_count": 46
        }
      ]
    },
    {
      "cell_type": "code",
      "source": [
        "print((not(2!=3) and True) or (False and True))"
      ],
      "metadata": {
        "colab": {
          "base_uri": "https://localhost:8080/"
        },
        "id": "kGgeq7AhGTFk",
        "outputId": "080b381c-abfa-486b-f8e4-5d61b12e968f"
      },
      "execution_count": 48,
      "outputs": [
        {
          "output_type": "stream",
          "name": "stdout",
          "text": [
            "False\n"
          ]
        }
      ]
    }
  ]
}